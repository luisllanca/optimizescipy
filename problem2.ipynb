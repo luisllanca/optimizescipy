{
 "cells": [
  {
   "cell_type": "code",
   "execution_count": 1,
   "id": "f3c16c90",
   "metadata": {},
   "outputs": [],
   "source": [
    "%matplotlib inline\n",
    "import numpy as np\n",
    "import scipy.optimize\n",
    "import matplotlib.pyplot as plt"
   ]
  },
  {
   "cell_type": "markdown",
   "id": "1c042d4f",
   "metadata": {},
   "source": [
    "# Brazo robótico\n",
    "\n",
    "Sea un brazo robótico con dos articulaciones rotacionales y que se mueve en un plano bidimensional como se muestra en la siguiente imagen\n",
    "\n",
    "<img src=\"img/robot_arm_two_dof.png\" width=\"500\">\n",
    "\n",
    "Las características mecánicas del brazo son:\n",
    "\n",
    "- $L_1 = L_2 = 1$\n",
    "- $\\theta_1 \\in [0°, 180°]$\n",
    "- $\\theta_2 \\in [-90°, 90°]$\n",
    "\n",
    "La función de cinemática directa (*forward kinematic*) del brazo robótico es aquella que \n",
    "\n",
    "> Dado el largo y ángulo de los segmentos retorna la posición en coordenadas cartesianas de las articulaciones\n",
    "\n",
    "El código de esta función se muestra a continuación:"
   ]
  },
  {
   "cell_type": "code",
   "execution_count": 2,
   "id": "6e523780",
   "metadata": {},
   "outputs": [],
   "source": [
    "def forward_kinematics(theta, lengths):\n",
    "    deg_to_rad = lambda degrees : (float(degrees)/180)*np.pi\n",
    "    elbow_x = lengths[0]*np.cos(deg_to_rad(theta[0]))\n",
    "    hand_x = elbow_x + lengths[1]*np.cos(deg_to_rad(theta[0] + theta[1]))\n",
    "    elbow_y = lengths[0]*np.sin(deg_to_rad(theta[0]))\n",
    "    hand_y = elbow_y + lengths[1]*np.sin(deg_to_rad(theta[0] + theta[1]))\n",
    "    return np.array([elbow_x, elbow_y]), np.array([hand_x, hand_y])"
   ]
  },
  {
   "cell_type": "markdown",
   "id": "6f232fbe",
   "metadata": {},
   "source": [
    "La siguiente gráfica muestra tres posibles configuraciones del brazo"
   ]
  },
  {
   "cell_type": "code",
   "execution_count": 3,
   "id": "bb046b70",
   "metadata": {},
   "outputs": [
    {
     "data": {
      "image/png": "[encoded data removed]",
      "text/plain": [
       "<Figure size 360x288 with 1 Axes>"
      ]
     },
     "metadata": {
      "needs_background": "light"
     },
     "output_type": "display_data"
    }
   ],
   "source": [
    "def plot_robot_arm(ax, positions, **kwargs):\n",
    "    label = kwargs['label'] if 'label' in kwargs else None\n",
    "    elbow_position, hand_position = positions\n",
    "    ax.plot([0.0, elbow_position[0], hand_position[0]], \n",
    "            [0.0, elbow_position[1], hand_position[1]],\n",
    "            marker='o', markersize=10, label=label)\n",
    "    ax.grid('on')\n",
    "    ax.set_xlim([-2.5, 2.5])\n",
    "    ax.set_ylim([-1, 2.5])\n",
    "    ax.set_aspect('equal')\n",
    "    \n",
    "arm_dimensions = (1, 1)\n",
    "fig, ax = plt.subplots(figsize=(5, 4), tight_layout=True)\n",
    "for angles in [[0, 0], [45, 45], [135, 0]]:\n",
    "    plot_robot_arm(ax, forward_kinematics(angles, arm_dimensions), label=angles)\n",
    "ax.legend(loc=4);"
   ]
  },
  {
   "cell_type": "markdown",
   "id": "c2b68ac5",
   "metadata": {},
   "source": [
    "El objetivo de esta actividad es resolver el problema de la cinemática inversa del brazo robótico: \n",
    "\n",
    "> Dada una posición en el espacio, retornar los ángulos de las articulaciones tal que la mano (extremo) llegue a dicha posición\n",
    "\n",
    "Este es un problema clásico de control que a diferencia de la cinemática directa no tiene solución analítica directa. Utilice `scipy.optimize` para resolverlo considerando lo siguiente\n",
    "\n",
    "- Utilice como variables de decisión los ángulos de las articulaciones (los largos del brazo son fijos)\n",
    "- Utilice como función de costo la norma euclidiana de la resta entre el vector de posición objetivo y el vector de la posición de la mano del robot\n",
    "- Tome en cuenta las limitaciones mecánicas del robot para escribir restricciones apropiadas\n",
    "\n",
    "Pruebe su rutina con las siguientes posiciones objetivo\n",
    "\n",
    "- (1, 1)\n",
    "- (1.4, 1.4)\n",
    "- (-1.4, 1.4)\n",
    "- (-1.5, 0.5)\n",
    "- (-1.0, 0.5)\n",
    "\n",
    "Utilice siempre (0, 0) como ángulos iniciales. En cada caso imprima y visualice la posición alcanzada por la mano y discuta si es factible llegar a la posición objetivo"
   ]
  },
  {
   "cell_type": "code",
   "execution_count": null,
   "id": "c4c3925d",
   "metadata": {},
   "outputs": [],
   "source": []
  }
 ],
 "metadata": {
  "kernelspec": {
   "display_name": "Python 3 (ipykernel)",
   "language": "python",
   "name": "python3"
  },
  "language_info": {
   "codemirror_mode": {
    "name": "ipython",
    "version": 3
   },
   "file_extension": ".py",
   "mimetype": "text/x-python",
   "name": "python",
   "nbconvert_exporter": "python",
   "pygments_lexer": "ipython3",
   "version": "3.8.12"
  }
 },
 "nbformat": 4,
 "nbformat_minor": 5
}
