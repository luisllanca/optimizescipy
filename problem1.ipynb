{
 "cells": [
  {
   "cell_type": "code",
   "execution_count": null,
   "metadata": {},
   "outputs": [],
   "source": [
    "%matplotlib inline\n",
    "import numpy as np\n",
    "import scipy.optimize\n",
    "import matplotlib.pyplot as plt"
   ]
  },
  {
   "cell_type": "markdown",
   "metadata": {},
   "source": [
    "# Optimización sin restricciones\n",
    "\n",
    "Sea la función del \"dromedario invertido\" definida como\n",
    "\n",
    "$$\n",
    "f(x, y) = \\left(4 - 2.1 \\cdot x^2 + \\frac{x^4}{3} \\right) \\cdot x^2 + x \\cdot y + 4 \\cdot y^2 \\cdot (y^2 - 1) \n",
    "$$\n",
    "\n",
    "Encuentre el mínimo de esta función utilizando  `scipy.optimize.minimize`\n",
    "\n",
    "Primero implemente la función de costo y su primera derivada"
   ]
  },
  {
   "cell_type": "code",
   "execution_count": null,
   "metadata": {},
   "outputs": [],
   "source": []
  },
  {
   "cell_type": "markdown",
   "metadata": {},
   "source": [
    "Encuentre e imprima la mejor solución los casos\n",
    "\n",
    "- Solución inicial $[1, 1]$\n",
    "- Solución inicial $[-1, -1]$"
   ]
  },
  {
   "cell_type": "code",
   "execution_count": null,
   "metadata": {},
   "outputs": [],
   "source": []
  },
  {
   "cell_type": "markdown",
   "metadata": {},
   "source": [
    "Grafique la función, soluciones iniciales y soluciones finales utilizando matplotlib"
   ]
  },
  {
   "cell_type": "markdown",
   "metadata": {},
   "source": []
  }
 ],
 "metadata": {
  "interpreter": {
   "hash": "50456680fccf1c41085e05954d172de063da31b4663dbf91e3dc42a7c568c15e"
  },
  "kernelspec": {
   "display_name": "Python 3 (ipykernel)",
   "language": "python",
   "name": "python3"
  },
  "language_info": {
   "codemirror_mode": {
    "name": "ipython",
    "version": 3
   },
   "file_extension": ".py",
   "mimetype": "text/x-python",
   "name": "python",
   "nbconvert_exporter": "python",
   "pygments_lexer": "ipython3",
   "version": "3.8.12"
  }
 },
 "nbformat": 4,
 "nbformat_minor": 2
}
